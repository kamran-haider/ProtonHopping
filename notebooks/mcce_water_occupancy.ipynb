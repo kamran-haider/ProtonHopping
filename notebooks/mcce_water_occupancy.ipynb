{
 "cells": [
  {
   "cell_type": "markdown",
   "metadata": {},
   "source": [
    "# MCCE-generated water distribution in Gramicidin channel\n",
    "In the following, we take a look at data generated from MCCE."
   ]
  },
  {
   "cell_type": "code",
   "execution_count": 1,
   "metadata": {
    "collapsed": false,
    "slideshow": {
     "slide_type": "skip"
    }
   },
   "outputs": [
    {
     "name": "stderr",
     "output_type": "stream",
     "text": [
      "/Users/kamranhaider/anaconda2/lib/python2.7/site-packages/matplotlib/__init__.py:1401: UserWarning:  This call to matplotlib.use() has no effect\n",
      "because the backend has already been chosen;\n",
      "matplotlib.use() must be called *before* pylab, matplotlib.pyplot,\n",
      "or matplotlib.backends is imported for the first time.\n",
      "\n",
      "  warnings.warn(_use_error_msg)\n"
     ]
    }
   ],
   "source": [
    "%matplotlib inline\n",
    "import matplotlib.pyplot as plt\n",
    "plt.style.use('seaborn-white')\n",
    "fontsize=10\n",
    "font = {'family' : 'sans-serif',\n",
    "        'weight' : 'normal',\n",
    "        'size'   : fontsize}\n",
    "\n",
    "plt.rc('font', **font)\n",
    "import sys\n",
    "import numpy as np\n",
    "import mdtraj as md\n",
    "import parmed as pm\n",
    "from collections import OrderedDict\n",
    "from __future__ import division\n",
    "from sstmap.grid_water_analysis import *\n",
    "from sstmap.utils import write_watpdb_from_coords\n"
   ]
  },
  {
   "cell_type": "markdown",
   "metadata": {},
   "source": [
    "Obtain occupacy data"
   ]
  },
  {
   "cell_type": "code",
   "execution_count": 2,
   "metadata": {
    "collapsed": false,
    "slideshow": {
     "slide_type": "slide"
    }
   },
   "outputs": [],
   "source": [
    "def read_head3lst(head3lst_file):\n",
    "    residues = OrderedDict()\n",
    "    with open(head3lst_file, 'r') as f:\n",
    "        lines = [l.strip().split() for l in f.readlines()]\n",
    "        header = lines.pop(0)\n",
    "        data = [l[2:-1] for l in lines]\n",
    "        conf_names = [l[1] for l in lines]\n",
    "        for index, d in enumerate(data):\n",
    "            if d[0] == \"f\":\n",
    "                d[0] = 0\n",
    "            else:\n",
    "                d[0] = 1\n",
    "            data[index] = [float(i) for i in d]\n",
    "        for index, n in enumerate(conf_names):\n",
    "            #print n, n[0:3] + n[5:10]\n",
    "            k = n[0:3] + n[5:10]\n",
    "            if k not in residues.keys():\n",
    "                residues[k] = [index]\n",
    "            else:\n",
    "                residues[k].append(index)\n",
    "        \n",
    "    return header, conf_names, residues, np.asarray(data)\n",
    "\n",
    "def read_fort38(fort38_file):\n",
    "    with open(fort38_file, 'r') as f:\n",
    "        lines = [l.strip().split() for l in f.readlines()]\n",
    "        header = lines.pop(0)\n",
    "        data = OrderedDict()\n",
    "        for l in lines:\n",
    "            line = [float(i) for i in l[1:]]\n",
    "            data[l[0]] = line\n",
    "        return data\n"
   ]
  },
  {
   "cell_type": "markdown",
   "metadata": {},
   "source": [
    "Use occupancy data to write out a new pdb fie for high occupancy waters."
   ]
  },
  {
   "cell_type": "code",
   "execution_count": 35,
   "metadata": {
    "collapsed": false
   },
   "outputs": [
    {
     "name": "stdout",
     "output_type": "stream",
     "text": [
      "250 1282 HOH26-O 0.547\n",
      "1390 4702 HOH140-O 0.769\n",
      "2210 7162 HOH222-O 0.281\n",
      "2650 8482 HOH266-O 0.712\n",
      "3600 11332 HOH361-O 0.428\n",
      "3750 11782 HOH376-O 0.686\n",
      "6\n"
     ]
    }
   ],
   "source": [
    "occ_data = read_fort38(\"../data/mcce_water_profiling/10_conf_per_water/fort_1.0.38\")\n",
    "res_occ = []\n",
    "for k in occ_data.keys():\n",
    "    if \"DM\" in k:\n",
    "        res_occ.append(1 - occ_data[k][0])\n",
    "s = md.load_pdb(\"../data/mcce_water_profiling/10_conf_per_water/step2_out.pdb\")\n",
    "wat_O_ids = s.topology.select(\"water and name O\")\n",
    "coords = []\n",
    "i = 0\n",
    "for index in range(0, wat_O_ids.shape[0], 10):\n",
    "    O_index = wat_O_ids[index]\n",
    "    occ = res_occ[i]\n",
    "    if occ > 0.1:\n",
    "        print index, wat_O_ids[index], s.topology.atom(wat_O_ids[index]), res_occ[i]\n",
    "        O_coords = s.xyz[0, O_index, :]\n",
    "        coords.append(O_coords*10.0)\n",
    "    i += 1\n",
    "print len(coords)\n",
    "write_watpdb_from_coords(\"../data/mcce_water_profiling/10_conf_per_water/high_occ_waters\", coords)"
   ]
  },
  {
   "cell_type": "markdown",
   "metadata": {
    "collapsed": true
   },
   "source": [
    "## Generating density plots\n"
   ]
  },
  {
   "cell_type": "code",
   "execution_count": 6,
   "metadata": {
    "collapsed": true
   },
   "outputs": [],
   "source": [
    "def initialize_grid(center, resolution, dimensions):\n",
    "    \"\"\"\n",
    "    Initialize a grid over the system\n",
    "    \"\"\"\n",
    "    # set grid center, res and dimension\n",
    "    # self.center = np.array(center,dtype=np.float_)\n",
    "    # self.dims = np.array(dimensions)\n",
    "    # self.spacing = np.array(resolution,dtype=np.float_)\n",
    "    print(\"Initializing ...\")\n",
    "    center = np.array(center, dtype=np.float_)\n",
    "    dims = np.array(dimensions, dtype=np.int_)\n",
    "    spacing = np.array(resolution, dtype=np.float_)\n",
    "    gridmax = dims * spacing + 1.5\n",
    "    # set origin\n",
    "    o = center - (0.5 * dims * spacing)\n",
    "    origin = np.around(o, decimals=3)\n",
    "    # set grid size (in terms of total points alog each axis)\n",
    "    length = np.array(dims / spacing, dtype=np.float_)\n",
    "    grid_size = np.ceil((length / spacing) + 1.0)\n",
    "    grid_size = np.cast['uint32'](grid_size)\n",
    "    # Finally allocate the space for the grid\n",
    "    grid = np.zeros(dims, dtype=np.int_)\n",
    "\n",
    "    v_count = 0\n",
    "    voxel_array = np.zeros((grid.size, 6), dtype=\"float64\")\n",
    "    # print voxel_quarts_new.shape\n",
    "    for index, value in np.ndenumerate(grid):\n",
    "        # point = grid.pointForIndex(index) # get cartesian coords for the\n",
    "        # grid point\n",
    "        _index = np.array(index, dtype=np.int32)\n",
    "        # point = self.spacing * _index + self._origin\n",
    "        point = _index * spacing + origin + 0.5 * spacing\n",
    "        voxel_array[v_count, 1] = point[0]\n",
    "        voxel_array[v_count, 2] = point[1]\n",
    "        voxel_array[v_count, 3] = point[2]\n",
    "        voxel_array[v_count, 0] = v_count\n",
    "        # print voxel_quarts_new[v_count, 0], voxel_quarts_new[v_count, 1],\n",
    "        # voxel_quarts_new[v_count, 2]\n",
    "        # create a dictionary key-value pair with voxel index as key and\n",
    "        # it's coords as\n",
    "        # voxel_quarts[v_count].append(np.zeros(14, dtype=\"float64\"))\n",
    "        v_count += 1\n",
    "    return voxel_array, grid\n"
   ]
  },
  {
   "cell_type": "code",
   "execution_count": 7,
   "metadata": {
    "collapsed": false
   },
   "outputs": [],
   "source": [
    "input_file = \"../data/mcce_water_profiling/1_conf_per_water/prot_step2_out.pdb\"\n",
    "lig = md.load_pdb(input_file, no_boxchk=True)\n",
    "com = np.zeros((lig.n_frames, 3))\n",
    "masses = np.ones(lig.n_atoms)\n",
    "masses /= masses.sum()\n",
    "com[0, :] = lig.xyz[0, :].astype('float64').T.dot(masses)\n",
    "grid_center = com[0, :] * 10.0\n",
    "grid_res = [0.5, 0.5, 0.5]\n",
    "grid_dims = [16.0, 16.0, 44.0]\n",
    "dims = np.array(grid_dims, dtype=np.int_)\n",
    "grid_origin = grid_center - (0.5 * dims * grid_res)"
   ]
  },
  {
   "cell_type": "code",
   "execution_count": null,
   "metadata": {
    "collapsed": false
   },
   "outputs": [],
   "source": []
  },
  {
   "cell_type": "code",
   "execution_count": 16,
   "metadata": {
    "collapsed": false
   },
   "outputs": [
    {
     "name": "stdout",
     "output_type": "stream",
     "text": [
      "(1, 1)\n",
      "Initializing ...\n",
      "528 528\n",
      "(11264, 6)\n",
      "(11264,)\n",
      "(2, 5)\n",
      "Initializing ...\n",
      "528 528\n",
      "(11264, 6)\n",
      "(11264,)\n",
      "(3, 10)\n",
      "Initializing ...\n",
      "528 528\n",
      "(11264, 6)\n",
      "(11264,)\n",
      "(4, 25)\n",
      "Initializing ...\n",
      "528 528\n",
      "(11264, 6)\n",
      "(11264,)\n"
     ]
    }
   ],
   "source": [
    "dens_results = []\n",
    "pt_regions = []\n",
    "wat_nums = []\n",
    "data = [(1, 1), (2, 5), (3, 10), (4, 25)]\n",
    "# for each dataset\n",
    "for d in data:\n",
    "    print(d)\n",
    "    # Initialize the grid\n",
    "    g, grid = initialize_grid(grid_center, grid_res, grid_dims)\n",
    "    d0 = d[0]\n",
    "    d1 = d[1]\n",
    "    \n",
    "    occ_data = read_fort38(\"../data/mcce_water_profiling/\"+ str(d1) + \"_conf_per_water/fort_1.0.38\")\n",
    "    res_occ = []\n",
    "    wat_sum = 0\n",
    "    i = 0\n",
    "    for k in occ_data.keys():\n",
    "        if \"DM\" in k:\n",
    "            res_occ.append(1 - occ_data[k][0])\n",
    "            wat_sum += 1 - occ_data[k][0]\n",
    "            i += 1\n",
    "    wat_nums.append(wat_sum)\n",
    "    s = md.load_pdb(\"../data/mcce_water_profiling/\" + str(d1) + \"_conf_per_water/step2_out.pdb\")\n",
    "    wat_O_ids = s.topology.select(\"water and name O\")\n",
    "    coords = []\n",
    "    i = 0\n",
    "    for index in range(0, wat_O_ids.shape[0], 25):\n",
    "        O_index = wat_O_ids[index]\n",
    "        occ = res_occ[i]\n",
    "        O_coords = s.xyz[0, O_index, :]\n",
    "        #print index, wat_O_ids[index], s.topology.atom(wat_O_ids[index]), res_occ[i], np.round(O_coords*10.0, 3)\n",
    "    prot_coords = lig.xyz[0, :, :] * 10.0\n",
    "    search_space = NeighborSearch(prot_coords, 2.4)\n",
    "    search_space_2 = NeighborSearch(prot_coords, 1.6)\n",
    "    n_wats = 0\n",
    "    water_ids = range(0, wat_O_ids.shape[0], 25)\n",
    "    i = 0\n",
    "    dens = np.zeros(g.shape[0])\n",
    "    pt = np.zeros(g.shape[0])\n",
    "    for pt_i in xrange(g.shape[0]):\n",
    "        pt_coords = g[pt_i, 1:4]\n",
    "        nn = search_space.query_nbrs_single_point(pt_coords)\n",
    "        nn_2 = search_space_2.query_nbrs_single_point(pt_coords)\n",
    "        if len(nn) == 0:\n",
    "            #print i, res_occ[i-1]\n",
    "            #print pt_i, pt_coords, wat_O_ids[water_ids[i]], res_occ[i]\n",
    "            dens[pt_i] += res_occ[i]\n",
    "            i += 1\n",
    "        #else:\n",
    "        if len(nn_2) == 0:\n",
    "            if pt_coords[0] == 23.479:\n",
    "                pt[pt_i] = 1\n",
    "    wat = dens.reshape(dims)\n",
    "    prot = pt.reshape(dims)\n",
    "    d = wat.shape\n",
    "    slab_1 = np.zeros((d[1], d[2]))\n",
    "    slab_2 = np.zeros((d[1], d[2]))\n",
    "    for j in xrange(d[1]):\n",
    "        for k in xrange(d[2]):\n",
    "            slab_1[j, k] += np.sum(wat[:, j, k])\n",
    "            slab_2[j, k] = np.sum(prot[:, j, k])\n",
    "    dens_results.append(slab_1)\n",
    "    pt_regions.append(slab_2)\n",
    "    \n",
    "    #print len(res_occ)\n",
    "    print i, len(res_occ)\n",
    "    print g.shape\n",
    "    dx_header = \"\"\n",
    "    dx_header += 'object 1 class gridpositions counts %d %d %d\\n' % (\n",
    "        grid_dims[0], grid_dims[1], grid_dims[2])\n",
    "    dx_header += 'origin %.3f %.3f %.3f\\n' % (\n",
    "        grid_origin[0], grid_origin[1], grid_origin[2])\n",
    "    dx_header += 'delta %.1f 0 0\\n' % (grid_res[0])\n",
    "    dx_header += 'delta 0 %.1f 0\\n' % (grid_res[1])\n",
    "    dx_header += 'delta 0 0 %.1f\\n' % (grid_res[2])\n",
    "    dx_header += 'object 2 class gridconnections counts %d %d %d\\n' % (\n",
    "        grid_dims[0], grid_dims[1], grid_dims[2])\n",
    "    dx_header += 'object 3 class array type double rank 0 items %d data follows\\n' % (\n",
    "        grid_dims[0] * grid_dims[1] * grid_dims[2])\n",
    "\n",
    "    with open(\"../data/mcce_water_profiling/\"+ str(d1) +\"_conf_per_water/mcce_occ.dx\", \"w\") as f:\n",
    "        f.write(dx_header)\n",
    "        for k in range(1, len(dens) + 1):\n",
    "            # print \"writing data for voxel: \", k\n",
    "            f.write(\"%g \" % (dens[k - 1]))\n",
    "            if k % 3 == 0:\n",
    "                f.write(\"\\n\")\n",
    "\n",
    "    print(dens.shape)\n",
    "    \n"
   ]
  },
  {
   "cell_type": "code",
   "execution_count": 14,
   "metadata": {
    "collapsed": false
   },
   "outputs": [
    {
     "name": "stdout",
     "output_type": "stream",
     "text": [
      "(0, 0)\n",
      "7.045\n",
      "(0, 1)\n",
      "7.11\n",
      "(1, 0)\n",
      "7.084\n",
      "(1, 1)\n",
      "7.516\n"
     ]
    },
    {
     "data": {
      "image/png": "[encoded data removed]",
      "text/plain": [
       "<matplotlib.figure.Figure at 0x10f83cb10>"
      ]
     },
     "metadata": {},
     "output_type": "display_data"
    }
   ],
   "source": [
    "# can use grep -v DM fort.38 | grep HOH | awk '{s+=$2}END{print s}' to get it directly\n",
    "#y = g[range(0, g.shape[0], grid.shape[2]), 2]\n",
    "#z = g[0:grid.shape[2], 3]\n",
    "conf_nums = [1, 5, 10, 25]\n",
    "grid_start = g[0, 1:4]\n",
    "grid_end = g[-1, 1:4]\n",
    "x = np.arange(grid_start[2], grid_end[2] + 0.5, 0.5)\n",
    "y = np.arange(grid_start[1], grid_end[1] + 0.5, 0.5)\n",
    "X, Y = np.meshgrid(x, y)\n",
    "fig, ax = plt.subplots(2, 2, sharex=True, sharey=True,figsize=(10, 5))\n",
    "fig.subplots_adjust(hspace=1.0, wspace=0.4)\n",
    "sub_plot_indices = [(i, j) for i in range(2) for j in range(2)]\n",
    "for index, data in enumerate(dens_results):\n",
    "    i, j = sub_plot_indices[index]\n",
    "    print(i, j)\n",
    "    print(np.sum(data))\n",
    "    ## Or kernel density estimate plot instead of the contourf plot\n",
    "    #ax.imshow(np.rot90(f), cmap='Blues', extent=[xmin, xmax, ymin, ymax])\n",
    "    # Label plot\n",
    "    ax[i, j].set_xlabel('Z')\n",
    "    ax[i, j].set_ylabel('Y')\n",
    "    #cfset = ax[i, j].contourf(x, y, data, cmap=\"Blues\")\n",
    "    cfset = ax[i, j].contour(x, y, data, colors=\"black\")\n",
    "    ax[i, j].clabel(cfset, inline=1, fontsize=10)\n",
    "    cfset = ax[i, j].contourf(x, y, pt_regions[index], cmap='Blues')\n",
    "    text = \"$N_{conf}$ = \" + str(conf_nums[index]) + \"\\n$N_{wat}$ = \" + str(wat_nums[index])\n",
    "    ax[i, j].text(x[0], y[-1]+1.0, text, fontsize=12)\n",
    "#plt.colorbar(cfset)\n",
    "    \n"
   ]
  },
  {
   "cell_type": "code",
   "execution_count": 15,
   "metadata": {
    "collapsed": false
   },
   "outputs": [
    {
     "name": "stdout",
     "output_type": "stream",
     "text": [
      "((4, 3), (4, 3), (4, 3))\n"
     ]
    }
   ],
   "source": [
    "xlist = np.linspace(-3.0, 3.0, 3)\n",
    "ylist = np.linspace(-3.0, 3.0, 4)\n",
    "X, Y = np.meshgrid(xlist, ylist)\n",
    "Z = np.sqrt(X**2 + Y**2)\n",
    "print(X.shape, Y.shape, Z.shape)"
   ]
  },
  {
   "cell_type": "code",
   "execution_count": 292,
   "metadata": {
    "collapsed": true
   },
   "outputs": [],
   "source": [
    "x = g[range(0, g.shape[0], grid.shape[1]*grid.shape[2]), 1]\n",
    "#print(x)\n",
    "#print(x.shape)\n",
    "xlist = np.linspace(-3.0, 3.0, 100)\n",
    "ylist = np.linspace(-3.0, 3.0, 100)\n",
    "X, Y = np.meshgrid(xlist, ylist)\n",
    "Z = np.sqrt(X**2 + Y**2)"
   ]
  },
  {
   "cell_type": "code",
   "execution_count": null,
   "metadata": {
    "collapsed": true
   },
   "outputs": [],
   "source": []
  }
 ],
 "metadata": {
  "celltoolbar": "Raw Cell Format",
  "kernelspec": {
   "display_name": "Python 2",
   "language": "python",
   "name": "python2"
  },
  "language_info": {
   "codemirror_mode": {
    "name": "ipython",
    "version": 2
   },
   "file_extension": ".py",
   "mimetype": "text/x-python",
   "name": "python",
   "nbconvert_exporter": "python",
   "pygments_lexer": "ipython2",
   "version": "2.7.13"
  }
 },
 "nbformat": 4,
 "nbformat_minor": 2
}
