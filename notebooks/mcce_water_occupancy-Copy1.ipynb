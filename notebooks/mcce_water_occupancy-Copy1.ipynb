{
 "cells": [
  {
   "cell_type": "markdown",
   "metadata": {},
   "source": [
    "# MCCE-generated water distribution in Gramicidin channel\n",
    "In the following, we take a look at data generated from MCCE."
   ]
  },
  {
   "cell_type": "code",
   "execution_count": 1,
   "metadata": {
    "collapsed": false,
    "slideshow": {
     "slide_type": "skip"
    }
   },
   "outputs": [
    {
     "name": "stderr",
     "output_type": "stream",
     "text": [
      "/Users/kamranhaider/anaconda2/lib/python2.7/site-packages/matplotlib/__init__.py:1401: UserWarning:  This call to matplotlib.use() has no effect\n",
      "because the backend has already been chosen;\n",
      "matplotlib.use() must be called *before* pylab, matplotlib.pyplot,\n",
      "or matplotlib.backends is imported for the first time.\n",
      "\n",
      "  warnings.warn(_use_error_msg)\n"
     ]
    }
   ],
   "source": [
    "%matplotlib inline\n",
    "import matplotlib.pyplot as plt\n",
    "plt.style.use('seaborn-white')\n",
    "fontsize=10\n",
    "font = {'family' : 'sans-serif',\n",
    "        'weight' : 'normal',\n",
    "        'size'   : fontsize}\n",
    "\n",
    "plt.rc('font', **font)\n",
    "import sys\n",
    "import numpy as np\n",
    "import mdtraj as md\n",
    "import parmed as pm\n",
    "from collections import OrderedDict\n",
    "from __future__ import division\n",
    "from sstmap.grid_water_analysis import *\n",
    "from sstmap.utils import write_watpdb_from_coords\n"
   ]
  },
  {
   "cell_type": "markdown",
   "metadata": {},
   "source": [
    "Obtain occupacy data"
   ]
  },
  {
   "cell_type": "code",
   "execution_count": 2,
   "metadata": {
    "collapsed": false,
    "slideshow": {
     "slide_type": "slide"
    }
   },
   "outputs": [],
   "source": [
    "def read_head3lst(head3lst_file):\n",
    "    residues = OrderedDict()\n",
    "    with open(head3lst_file, 'r') as f:\n",
    "        lines = [l.strip().split() for l in f.readlines()]\n",
    "        header = lines.pop(0)\n",
    "        data = [l[2:-1] for l in lines]\n",
    "        conf_names = [l[1] for l in lines]\n",
    "        for index, d in enumerate(data):\n",
    "            if d[0] == \"f\":\n",
    "                d[0] = 0\n",
    "            else:\n",
    "                d[0] = 1\n",
    "            data[index] = [float(i) for i in d]\n",
    "        for index, n in enumerate(conf_names):\n",
    "            #print n, n[0:3] + n[5:10]\n",
    "            k = n[0:3] + n[5:10]\n",
    "            if k not in residues.keys():\n",
    "                residues[k] = [index]\n",
    "            else:\n",
    "                residues[k].append(index)\n",
    "        \n",
    "    return header, conf_names, residues, np.asarray(data)\n",
    "\n",
    "def read_fort38(fort38_file):\n",
    "    with open(fort38_file, 'r') as f:\n",
    "        lines = [l.strip().split() for l in f.readlines()]\n",
    "        header = lines.pop(0)\n",
    "        data = OrderedDict()\n",
    "        for l in lines:\n",
    "            line = [float(i) for i in l[1:]]\n",
    "            data[l[0]] = line\n",
    "        return data\n",
    "\n",
    "def write_watpdb_from_coords(filename, coords, start_name):\n",
    "    \"\"\"Writes out PDB file from the a coordinate array. Only specific to writing\n",
    "    out water molecules.\"\n",
    "    \n",
    "    Parameters\n",
    "    ----------\n",
    "    filename : string, required\n",
    "        Name of the PDB file to write\n",
    "    coords : numpy.ndarray\n",
    "        An N x 3 array where N is the number of atoms\n",
    "    full_water_res : bool, optional\n",
    "        If True, it is assumed that the array of coordinates correspond to\n",
    "        a set of full water residues (including O, H1 and H2). By default,\n",
    "        it is assumed that all coordinates coorespond to water oxygens.\n",
    "    \"\"\"\n",
    "\n",
    "    pdb_line_format = \"{0:6}{1:>5}{2:>3}{3:<3}{4:>3} {5:1}{6:>04}{7:1}{8[0]:>8.3f}{8[1]:>8.3f}{8[2]:>8.3f}{9:>8.3f}{10:>12.3f}{11:>16s}\\n\"\n",
    "    ter_line_format = \"{0:3}   {1:>5}      {2:>3} {3:1}{4:4} \\n\"\n",
    "    pdb_lines = []\n",
    "    at = start_name\n",
    "    wat_i = 0\n",
    "    with open(filename + \".pdb\", 'w') as f:\n",
    "        #f.write(\"REMARK Initial number of clusters: N/A\\n\")\n",
    "        while wat_i < len(coords):\n",
    "            res = coords[wat_i][2]\n",
    "            at_index = at  # % 10000\n",
    "            res_index = res % 10000\n",
    "            wat_coords = coords[wat_i][0]\n",
    "            conf_id = \"_%03d\" % coords[wat_i][1]\n",
    "            chain_id = \"A\"\n",
    "            pdb_line = pdb_line_format.format(\n",
    "                \"ATOM\", at_index, \"O\", \" \", \"HOH\", chain_id, res_index, conf_id, wat_coords, 1.600, -0.834, \"01O000H011\")\n",
    "            f.write(pdb_line)\n",
    "            wat_i += 1\n",
    "            H1_coords = coords[wat_i][0]\n",
    "            pdb_line_H1 = pdb_line_format.format(\"ATOM\", at_index + 1, \"1H\", \" \", \"HOH\", chain_id, res_index, conf_id,\n",
    "                                                 H1_coords,  1.000, 0.417, \"01O000H011\")\n",
    "            f.write(pdb_line_H1)\n",
    "            H2_coords = coords[wat_i + 1][0]\n",
    "            pdb_line_H2 = pdb_line_format.format(\"ATOM\", at_index + 2, \"2H\", \" \", \"HOH\", chain_id, res_index, conf_id,\n",
    "                                                 H2_coords, 1.000, 0.417, \"01O000H011\")\n",
    "            f.write(pdb_line_H2)\n",
    "            at += 3\n",
    "            res += 1\n",
    "            wat_i += 2\n",
    "            if res_index == 9999:\n",
    "                ter_line = ter_line_format.format(\"TER\", at, \"HOH\", chain_id, res_index)\n",
    "                at = 1"
   ]
  },
  {
   "cell_type": "markdown",
   "metadata": {},
   "source": [
    "Use occupancy data to write out a new pdb fie for high occupancy waters."
   ]
  },
  {
   "cell_type": "code",
   "execution_count": 16,
   "metadata": {
    "collapsed": false
   },
   "outputs": [
    {
     "name": "stdout",
     "output_type": "stream",
     "text": [
      "('Processing data for conf_number = ', 1)\n",
      "('Processing data for conf_number = ', 5)\n",
      "('Processing data for conf_number = ', 10)\n",
      "('Processing data for conf_number = ', 25)\n"
     ]
    },
    {
     "data": {
      "image/png": "[encoded data removed]",
      "text/plain": [
       "<matplotlib.figure.Figure at 0x1083d8e10>"
      ]
     },
     "metadata": {},
     "output_type": "display_data"
    }
   ],
   "source": [
    "fig, ax = plt.subplots(2, 2, sharex=True, sharey=True, figsize=(10, 5))\n",
    "#fig, ax = plt.subplots(2, 2, figsize=(10, 5))\n",
    "fig.subplots_adjust(hspace=0.2, wspace=0.1)\n",
    "sub_plot_indices = [(i, j) for i in range(2) for j in range(2)]\n",
    "data = [(1, 1), (2, 5),(3, 10),(4, 25)]\n",
    "for index, d in enumerate(data):\n",
    "    i, j = sub_plot_indices[index]\n",
    "    d1 = d[1]\n",
    "    print(\"Processing data for conf_number = \", d1)\n",
    "    occ_data = read_fort38(\"../data/mcce_water_profiling/\"+ str(d1) + \"_conf_per_water/fort.38\")\n",
    "    s = md.load_pdb(\"../data/mcce_water_profiling/\" + str(d1) + \"_conf_per_water/step2_out.pdb\")\n",
    "    offset = s.topology.select(\"protein\")[-1]\n",
    "    # Obtain conformer wise occupancies\n",
    "    occ_dist = OrderedDict()\n",
    "    for k in occ_data.keys():\n",
    "        res_key = k[:3] + k[5:10]\n",
    "        if 'HOH' in res_key:\n",
    "            if res_key not in occ_dist.keys():\n",
    "                occ_dist[res_key] = [occ_data[k][0]]\n",
    "            else:\n",
    "                occ_dist[res_key].append(occ_data[k][0])\n",
    "    # Calculate entropies for non-zero occupancy waters\n",
    "    coords = []\n",
    "    bfactors = []\n",
    "    entropies = []\n",
    "    num_conf = []\n",
    "    z_pos = []\n",
    "    # iterate over water residues with non-zero occupancy\n",
    "    for k in occ_dist.keys():\n",
    "        if occ_dist[k][-1] < 1.0:\n",
    "            # obtain occupancy distribution\n",
    "            data = np.array(occ_dist[k][:-1])\n",
    "            if sum(data) >= 0.1:\n",
    "                data_non_zero = data[np.nonzero(data)]\n",
    "                #print(k, len(data_non_zero), max(data_non_zero))\n",
    "                #print(str(data_non_zero))\n",
    "                # calculate entropy\n",
    "                #H = -np.sum(data_non_zero*np.log2(data_non_zero))\n",
    "                num_conf.append(len(data_non_zero))\n",
    "                entropies.append(sum(data))\n",
    "    ax[i, j].bar(np.arange(len(entropies)), num_conf)\n",
    "    #ax[i, j].bar(np.arange(len(entropies)), entropies, color=\"k\")\n",
    "    ax[i, j].set_label(str(d1))"
   ]
  },
  {
   "cell_type": "code",
   "execution_count": 102,
   "metadata": {
    "collapsed": false
   },
   "outputs": [],
   "source": []
  },
  {
   "cell_type": "code",
   "execution_count": null,
   "metadata": {
    "collapsed": true
   },
   "outputs": [],
   "source": []
  }
 ],
 "metadata": {
  "celltoolbar": "Raw Cell Format",
  "kernelspec": {
   "display_name": "Python 2",
   "language": "python",
   "name": "python2"
  },
  "language_info": {
   "codemirror_mode": {
    "name": "ipython",
    "version": 2
   },
   "file_extension": ".py",
   "mimetype": "text/x-python",
   "name": "python",
   "nbconvert_exporter": "python",
   "pygments_lexer": "ipython2",
   "version": "2.7.13"
  }
 },
 "nbformat": 4,
 "nbformat_minor": 2
}
