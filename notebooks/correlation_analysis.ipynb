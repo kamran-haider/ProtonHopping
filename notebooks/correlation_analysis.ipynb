{
 "cells": [
  {
   "cell_type": "markdown",
   "metadata": {},
   "source": [
    "# MCCE-generated water distribution in Gramicidin channel\n",
    "In the following, we take a look at data generated from MCCE."
   ]
  },
  {
   "cell_type": "code",
   "execution_count": 2,
   "metadata": {
    "slideshow": {
     "slide_type": "skip"
    }
   },
   "outputs": [
    {
     "name": "stderr",
     "output_type": "stream",
     "text": [
      "/Users/kamranhaider/anaconda2/lib/python2.7/site-packages/matplotlib/__init__.py:1401: UserWarning:  This call to matplotlib.use() has no effect\n",
      "because the backend has already been chosen;\n",
      "matplotlib.use() must be called *before* pylab, matplotlib.pyplot,\n",
      "or matplotlib.backends is imported for the first time.\n",
      "\n",
      "  warnings.warn(_use_error_msg)\n"
     ]
    }
   ],
   "source": [
    "%matplotlib inline\n",
    "import matplotlib.pyplot as plt\n",
    "plt.style.use('seaborn-white')\n",
    "fontsize=10\n",
    "font = {'family' : 'sans-serif',\n",
    "        'weight' : 'normal',\n",
    "        'size'   : fontsize}\n",
    "\n",
    "plt.rc('font', **font)\n",
    "import sys\n",
    "import struct\n",
    "import numpy as np\n",
    "import mdtraj as md\n",
    "import parmed as pm\n",
    "from collections import OrderedDict\n",
    "from __future__ import division\n",
    "from sstmap.grid_water_analysis import *\n",
    "from sstmap.utils import write_watpdb_from_coords\n"
   ]
  },
  {
   "cell_type": "markdown",
   "metadata": {},
   "source": [
    "Put together a microstate analyzer class."
   ]
  },
  {
   "cell_type": "code",
   "execution_count": 5,
   "metadata": {},
   "outputs": [],
   "source": [
    "class MicrostateAnalysis(object):\n",
    "    \"\"\"A class representing microstate data and various analysis methods\"\"\"\n",
    "    def __init__(self, ms_data_file, head3lst_file):\n",
    "        self.ms_data_file = ms_data_file\n",
    "        self.byte_indices = None\n",
    "        self.total_microstates = 0\n",
    "        self.total_records = 0\n",
    "        res_list = []\n",
    "        \n",
    "        with open(self.ms_data_file, \"rb\") as md:\n",
    "            bytes_n_res = md.read(4)\n",
    "            n_res = struct.unpack('i', bytes_n_res)[0]\n",
    "            for i in range(n_res):\n",
    "                resname = str(md.read(8))\n",
    "                res_list.append(resname)\n",
    "            self.n_res = n_res\n",
    "        self.residue_list = res_list\n",
    "        self.residue_hb_matrix = np.zeros((n_res, n_res), dtype=float)\n",
    "\n",
    "        #with open(ms_gold_file, \"r\") as ms_gold:\n",
    "        #    self.n_res = len([res.strip() for res in ms_gold.readlines() if len(res) != 0])\n",
    "        conf_data = {}\n",
    "        with open(head3lst_file, \"r\") as h3:\n",
    "            for line in h3.readlines()[1:]:\n",
    "                data = line.split()\n",
    "                conf_id = int(data[0])\n",
    "                conf_data[conf_id] = [data[1], data[3]]\n",
    "        self.conformer_data = conf_data\n",
    "\n",
    "    def generate_byte_indices(self, sample_frequency=100, filename=None):\n",
    "        \"\"\"\n",
    "        Generate byte indices\n",
    "        \n",
    "        Parameters\n",
    "        ----------\n",
    "        n_res : TYPE\n",
    "            Description\n",
    "        sample_frequency : int, optional\n",
    "            Description\n",
    "        filename : None, optional\n",
    "            Description\n",
    "        \n",
    "        Returns\n",
    "        -------\n",
    "        rec_indices : list\n",
    "            A list of the starting bytes for each record in the microstate data file\n",
    "        \"\"\"\n",
    "        if filename is None:\n",
    "            filename = self.ms_data_file\n",
    "\n",
    "        start_byte = 4 + (8 * self.n_res)\n",
    "        bytes_per_record = (self.n_res * 2) + 20\n",
    "        file_size = os.path.getsize(filename)\n",
    "        # n_records = (file_size - start_byte) / bytes_per_record\n",
    "        rec_indices = list(range(start_byte, file_size, sample_frequency * bytes_per_record))\n",
    "        self.total_records = len(rec_indices)\n",
    "        self.byte_indices = rec_indices\n",
    "        \n",
    "    def parse_records(self):\n",
    "        \"\"\"\n",
    "        Parse ms.dat\n",
    "        \"\"\"\n",
    "        trajectory = np.zeros([self.total_records, self.n_res], dtype=int)\n",
    "        state_counts = np.zeros([self.total_records], dtype=int)\n",
    "        energies = np.zeros([self.total_records], dtype=float)\n",
    "        #print trajectory\n",
    "        progress_counter = 0\n",
    "        print_progress_bar(progress_counter, self.total_records)\n",
    "        with open(self.ms_data_file, \"rb\") as ms:\n",
    "            for index, record in enumerate(self.byte_indices):\n",
    "                ms.seek(record)\n",
    "                bytes_conf_ids = ms.read(2 * self.n_res)\n",
    "                bytes_energies_1 = ms.read(8)\n",
    "                ms.seek(ms.tell() + 8)\n",
    "                energy = struct.unpack(\"d\", bytes_energies_1)[0]\n",
    "                bytes_state_count = ms.read(4)\n",
    "                trajectory[index, :] = np.asarray(struct.unpack(str(self.n_res) + \"H\", bytes_conf_ids))\n",
    "                #print(struct.unpack(str(self.n_res) + \"H\", bytes_conf_ids)[-2:])\n",
    "                state_count = struct.unpack(\"i\", bytes_state_count)[0]\n",
    "                self.total_microstates += state_count\n",
    "                state_counts[index] += state_count\n",
    "                energies[index] += energy\n",
    "                progress_counter += 1\n",
    "                print_progress_bar(progress_counter, self.total_records)\n",
    "        self.trajectory = trajectory\n",
    "        self.state_counts = state_counts\n",
    "        self.energies = energies"
   ]
  },
  {
   "cell_type": "code",
   "execution_count": 8,
   "metadata": {},
   "outputs": [
    {
     "name": "stdout",
     "output_type": "stream",
     "text": [
      "Progress |====================| 100.0% Done.\n"
     ]
    }
   ],
   "source": [
    "msdat = \"../data/mcce_water_profiling/1_conf_per_water/ms.dat\"\n",
    "head3lst = \"../data/mcce_water_profiling/10_conf_per_water/head3.lst\"\n",
    "msa = MicrostateAnalysis(msdat, head3lst)\n",
    "msa.generate_byte_indices(sample_frequency=100)\n",
    "msa.parse_records()\n",
    "    "
   ]
  },
  {
   "cell_type": "code",
   "execution_count": 10,
   "metadata": {},
   "outputs": [
    {
     "name": "stdout",
     "output_type": "stream",
     "text": [
      "(870, 556)\n"
     ]
    }
   ],
   "source": [
    "print(msa.trajectory.shape)"
   ]
  },
  {
   "cell_type": "code",
   "execution_count": null,
   "metadata": {
    "collapsed": true
   },
   "outputs": [],
   "source": []
  }
 ],
 "metadata": {
  "celltoolbar": "Raw Cell Format",
  "kernelspec": {
   "display_name": "Python 3",
   "language": "python",
   "name": "python3"
  },
  "language_info": {
   "codemirror_mode": {
    "name": "ipython",
    "version": 3
   },
   "file_extension": ".py",
   "mimetype": "text/x-python",
   "name": "python",
   "nbconvert_exporter": "python",
   "pygments_lexer": "ipython3",
   "version": "3.6.4"
  }
 },
 "nbformat": 4,
 "nbformat_minor": 2
}
