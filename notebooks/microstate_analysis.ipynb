{
 "cells": [
  {
   "cell_type": "code",
   "execution_count": 6,
   "metadata": {
    "collapsed": false
   },
   "outputs": [],
   "source": [
    "import os\n",
    "%matplotlib inline\n",
    "import matplotlib.pyplot as plt\n",
    "import numpy as np\n",
    "import scipy as sp"
   ]
  },
  {
   "cell_type": "code",
   "execution_count": 7,
   "metadata": {
    "collapsed": false
   },
   "outputs": [
    {
     "name": "stdout",
     "output_type": "stream",
     "text": [
      "DEBUG1 Rejected: Energy difference: 1057.96\r\n",
      "DEBUG1 Rejected: Energy difference: 1170.74\r\n",
      "DEBUG1 Rejected: Energy difference: 2.88241\r\n",
      "DEBUG1 Rejected: Energy difference: 1115.44\r\n",
      "DEBUG1 Rejected: Energy difference: 180.797\r\n",
      "DEBUG1 Rejected: Energy difference: 7052.58\r\n",
      "DEBUG1 Rejected: Energy difference: 994.628\r\n",
      "DEBUG1 Rejected: Energy difference: 1031.23\r\n",
      "DEBUG1 Rejected: Energy difference: 2.41055\r\n",
      "DEBUG1 Rejected: Energy difference: 20.9889\r\n"
     ]
    }
   ],
   "source": [
    "!head ../data/mcce_water_profiling/5_conf_per_water/reject_dE.txt"
   ]
  },
  {
   "cell_type": "code",
   "execution_count": 9,
   "metadata": {
    "collapsed": false
   },
   "outputs": [],
   "source": [
    "rej_de = np.loadtxt(\"../data/mcce_water_profiling/5_conf_per_water/reject_dE.txt\", usecols=(4,))"
   ]
  },
  {
   "cell_type": "code",
   "execution_count": 12,
   "metadata": {
    "collapsed": false
   },
   "outputs": [
    {
     "data": {
      "text/plain": [
       "(array([  4.26691000e+05,   1.99445200e+06,   3.09864000e+05,\n",
       "          6.52146000e+05,   1.90924000e+05,   1.08515000e+05,\n",
       "          3.58860000e+05,   1.27910000e+04,   3.34500000e+03,\n",
       "          6.35000000e+02]),\n",
       " array([  9.98497000e-04,   9.19406899e+02,   1.83881280e+03,\n",
       "          2.75821870e+03,   3.67762460e+03,   4.59703050e+03,\n",
       "          5.51643640e+03,   6.43584230e+03,   7.35524820e+03,\n",
       "          8.27465410e+03,   9.19406000e+03]),\n",
       " <a list of 10 Patch objects>)"
      ]
     },
     "execution_count": 12,
     "metadata": {},
     "output_type": "execute_result"
    },
    {
     "data": {
      "image/png": "[encoded data removed]",
      "text/plain": [
       "<matplotlib.figure.Figure at 0x10521cc10>"
      ]
     },
     "metadata": {},
     "output_type": "display_data"
    }
   ],
   "source": [
    "plt.hist(rej_de)"
   ]
  },
  {
   "cell_type": "code",
   "execution_count": 14,
   "metadata": {
    "collapsed": true
   },
   "outputs": [],
   "source": [
    "acc_de = np.loadtxt(\"../data/mcce_water_profiling/5_conf_per_water/accepted_dE.txt\", usecols=(4,))"
   ]
  },
  {
   "cell_type": "code",
   "execution_count": 15,
   "metadata": {
    "collapsed": false
   },
   "outputs": [
    {
     "data": {
      "text/plain": [
       "(array([  3.00000000e+01,   1.79000000e+02,   2.14200000e+03,\n",
       "          1.86080000e+04,   1.01447000e+05,   1.71480000e+04,\n",
       "          2.04300000e+03,   1.50000000e+02,   2.70000000e+01,\n",
       "          3.00000000e+00]),\n",
       " array([-4.693 , -3.6461, -2.5992, -1.5523, -0.5054,  0.5415,  1.5884,\n",
       "         2.6353,  3.6822,  4.7291,  5.776 ]),\n",
       " <a list of 10 Patch objects>)"
      ]
     },
     "execution_count": 15,
     "metadata": {},
     "output_type": "execute_result"
    },
    {
     "data": {
      "image/png": "[encoded data removed]",
      "text/plain": [
       "<matplotlib.figure.Figure at 0x105469a50>"
      ]
     },
     "metadata": {},
     "output_type": "display_data"
    }
   ],
   "source": [
    "plt.hist(acc_de)"
   ]
  },
  {
   "cell_type": "code",
   "execution_count": null,
   "metadata": {
    "collapsed": true
   },
   "outputs": [],
   "source": [
    "!head ../data/mcce_water_profiling/5_conf_per_water/all_e.txt"
   ]
  },
  {
   "cell_type": "code",
   "execution_count": 29,
   "metadata": {
    "collapsed": false
   },
   "outputs": [],
   "source": [
    "all_e = np.loadtxt(\"../data/mcce_water_profiling/5_conf_per_water/all_e.txt\", usecols=(3,6))"
   ]
  },
  {
   "cell_type": "code",
   "execution_count": 31,
   "metadata": {
    "collapsed": false
   },
   "outputs": [
    {
     "name": "stdout",
     "output_type": "stream",
     "text": [
      "[[ 1000.8        -8.14963]\n",
      " [ 3365.53       -8.14963]\n",
      " [ 4046.51       -8.14963]\n",
      " ..., \n",
      " [  989.235      -6.82465]\n",
      " [ 1043.29       -6.82465]\n",
      " [ 1024.88       -6.82465]]\n"
     ]
    }
   ],
   "source": [
    "print(all_e)"
   ]
  },
  {
   "cell_type": "code",
   "execution_count": null,
   "metadata": {
    "collapsed": true
   },
   "outputs": [],
   "source": []
  }
 ],
 "metadata": {
  "kernelspec": {
   "display_name": "Python 2",
   "language": "python",
   "name": "python2"
  },
  "language_info": {
   "codemirror_mode": {
    "name": "ipython",
    "version": 2
   },
   "file_extension": ".py",
   "mimetype": "text/x-python",
   "name": "python",
   "nbconvert_exporter": "python",
   "pygments_lexer": "ipython2",
   "version": "2.7.13"
  }
 },
 "nbformat": 4,
 "nbformat_minor": 2
}
